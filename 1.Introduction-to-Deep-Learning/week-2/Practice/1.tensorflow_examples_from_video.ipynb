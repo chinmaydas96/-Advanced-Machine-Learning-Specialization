{
 "cells": [
  {
   "cell_type": "markdown",
   "metadata": {},
   "source": [
    "# Video \"What is TensorFlow\""
   ]
  },
  {
   "cell_type": "code",
   "execution_count": 1,
   "metadata": {},
   "outputs": [
    {
     "name": "stdout",
     "output_type": "stream",
     "text": [
      "2.0.0-dev20190914\n"
     ]
    }
   ],
   "source": [
    "import tensorflow as tf\n",
    "import numpy as np\n",
    "print(tf.__version__)"
   ]
  },
  {
   "cell_type": "code",
   "execution_count": 2,
   "metadata": {},
   "outputs": [],
   "source": [
    "a = tf.constant(tf.ones((2,2)))\n",
    "b = tf.Variable(tf.zeros((2,2)))"
   ]
  },
  {
   "cell_type": "code",
   "execution_count": 3,
   "metadata": {},
   "outputs": [
    {
     "data": {
      "text/plain": [
       "<tf.Tensor: id=2, shape=(2, 2), dtype=float32, numpy=\n",
       "array([[1., 1.],\n",
       "       [1., 1.]], dtype=float32)>"
      ]
     },
     "execution_count": 3,
     "metadata": {},
     "output_type": "execute_result"
    }
   ],
   "source": [
    "a"
   ]
  },
  {
   "cell_type": "code",
   "execution_count": 4,
   "metadata": {},
   "outputs": [
    {
     "data": {
      "text/plain": [
       "<tf.Variable 'Variable:0' shape=(2, 2) dtype=float32, numpy=\n",
       "array([[0., 0.],\n",
       "       [0., 0.]], dtype=float32)>"
      ]
     },
     "execution_count": 4,
     "metadata": {},
     "output_type": "execute_result"
    }
   ],
   "source": [
    "b"
   ]
  },
  {
   "cell_type": "code",
   "execution_count": 5,
   "metadata": {},
   "outputs": [],
   "source": [
    "b = tf.ones((2, 2))"
   ]
  },
  {
   "cell_type": "code",
   "execution_count": 6,
   "metadata": {},
   "outputs": [
    {
     "data": {
      "text/plain": [
       "<tf.Tensor: id=18, shape=(2, 2), dtype=float32, numpy=\n",
       "array([[2., 2.],\n",
       "       [2., 2.]], dtype=float32)>"
      ]
     },
     "execution_count": 6,
     "metadata": {},
     "output_type": "execute_result"
    }
   ],
   "source": [
    "c = a @ b\n",
    "c"
   ]
  },
  {
   "cell_type": "markdown",
   "metadata": {},
   "source": [
    "## First model in TensorFlow 2.0"
   ]
  },
  {
   "cell_type": "code",
   "execution_count": 7,
   "metadata": {},
   "outputs": [
    {
     "data": {
      "text/plain": [
       "<tf.Variable 'x:0' shape=() dtype=float32, numpy=3.0>"
      ]
     },
     "execution_count": 7,
     "metadata": {},
     "output_type": "execute_result"
    }
   ],
   "source": [
    "x = tf.Variable(3,name = \"x\", trainable=True,dtype=tf.float32)\n",
    "x"
   ]
  },
  {
   "cell_type": "code",
   "execution_count": 8,
   "metadata": {},
   "outputs": [
    {
     "data": {
      "text/plain": [
       "3.0"
      ]
     },
     "execution_count": 8,
     "metadata": {},
     "output_type": "execute_result"
    }
   ],
   "source": [
    "x.numpy()"
   ]
  },
  {
   "cell_type": "code",
   "execution_count": 9,
   "metadata": {},
   "outputs": [
    {
     "name": "stdout",
     "output_type": "stream",
     "text": [
      "4.2 0.6400003\n",
      "4.68 0.10240011\n",
      "4.8719997 0.016384067\n",
      "4.9488 0.0026214311\n",
      "4.97952 0.00041943678\n",
      "4.991808 6.710989e-05\n",
      "4.996723 1.0737582e-05\n",
      "4.998689 1.7182631e-06\n",
      "4.9994755 2.7512215e-07\n",
      "4.99979 4.4019544e-08\n"
     ]
    }
   ],
   "source": [
    "def y_fun():\n",
    "    y = (x - 5) ** 2\n",
    "    return y\n",
    "\n",
    "optimizer = tf.keras.optimizers.SGD(learning_rate=0.3)\n",
    "for i in range(10):\n",
    "    step = optimizer.minimize(y_fun, var_list=[x])\n",
    "    print(x.numpy(),y_fun().numpy())"
   ]
  },
  {
   "cell_type": "markdown",
   "metadata": {},
   "source": [
    "### Simple optimization (with tf.Print)"
   ]
  },
  {
   "cell_type": "code",
   "execution_count": 10,
   "metadata": {},
   "outputs": [
    {
     "name": "stdout",
     "output_type": "stream",
     "text": [
      "x :  3 , y:  4\n",
      "x :  4.2 , y:  0.640000284\n",
      "x :  4.68 , y:  0.102400109\n",
      "x :  4.87199974 , y:  0.016384067\n",
      "x :  4.9488 , y:  0.00262143114\n",
      "x :  4.97952 , y:  0.000419436779\n",
      "x :  4.99180794 , y:  6.71098896e-05\n",
      "x :  4.99672318 , y:  1.07375818e-05\n",
      "x :  4.99868917 , y:  1.71826309e-06\n",
      "x :  4.99947548 , y:  2.75122147e-07\n"
     ]
    }
   ],
   "source": [
    "x = tf.Variable(3,name = \"x\", trainable=True,dtype=tf.float32)\n",
    "\n",
    "def y_fun():\n",
    "    y = (x - 5) ** 2\n",
    "    #tf.print(y, x,\"x, f:\")\n",
    "    tf.print(\"x : \", x,\", y: \" , y)\n",
    "    return y\n",
    "\n",
    "optimizer = tf.keras.optimizers.SGD(learning_rate=0.3)\n",
    "for i in range(10):\n",
    "    step = optimizer.minimize(y_fun, var_list=[x])"
   ]
  },
  {
   "cell_type": "markdown",
   "metadata": {},
   "source": [
    "### Simple optimization (with TensorBoard logging)"
   ]
  },
  {
   "cell_type": "code",
   "execution_count": 11,
   "metadata": {},
   "outputs": [],
   "source": [
    "# ! pip install tf-nightly-2.0-preview tf_estimator_nightly"
   ]
  },
  {
   "cell_type": "code",
   "execution_count": 12,
   "metadata": {},
   "outputs": [],
   "source": [
    "%load_ext tensorboard"
   ]
  },
  {
   "cell_type": "code",
   "execution_count": 13,
   "metadata": {},
   "outputs": [],
   "source": [
    "# Clear any logs from previous runs\n",
    "!rm -rf ./logs/ "
   ]
  },
  {
   "cell_type": "code",
   "execution_count": 14,
   "metadata": {},
   "outputs": [],
   "source": [
    "directory = 'logs/simple1'\n",
    "summary_writer = tf.summary.create_file_writer(directory)"
   ]
  },
  {
   "cell_type": "code",
   "execution_count": 15,
   "metadata": {},
   "outputs": [],
   "source": [
    "x = tf.Variable(3,name = \"x\", trainable=True,dtype=tf.float32)\n",
    "\n",
    "def y_fun():\n",
    "    y = (x - 5) ** 2\n",
    "    #tf.print(y, x,\"x, f:\")\n",
    "    #tf.print(\"x : \", x,\" y: \" , y)\n",
    "    return y\n",
    "\n",
    "optimizer = tf.keras.optimizers.SGD(learning_rate=0.3)\n",
    "for i in range(10):\n",
    "    step = optimizer.minimize(y_fun, var_list=[x])\n",
    "    \n",
    "    with summary_writer.as_default():\n",
    "        tf.summary.scalar('x', x, step=i)\n",
    "        tf.summary.scalar('y', y_fun(), step=i)"
   ]
  },
  {
   "cell_type": "code",
   "execution_count": 16,
   "metadata": {},
   "outputs": [
    {
     "data": {
      "text/html": [
       "\n",
       "      <iframe id=\"tensorboard-frame-3ed4f983a1a42b7a\" width=\"100%\" height=\"800\" frameborder=\"0\">\n",
       "      </iframe>\n",
       "      <script>\n",
       "        (function() {\n",
       "          const frame = document.getElementById(\"tensorboard-frame-3ed4f983a1a42b7a\");\n",
       "          const url = new URL(\"/\", window.location);\n",
       "          url.port = 6007;\n",
       "          frame.src = url;\n",
       "        })();\n",
       "      </script>\n",
       "  "
      ],
      "text/plain": [
       "<IPython.core.display.HTML object>"
      ]
     },
     "metadata": {},
     "output_type": "display_data"
    }
   ],
   "source": [
    "%tensorboard --logdir logs/simple1"
   ]
  },
  {
   "cell_type": "markdown",
   "metadata": {},
   "source": [
    "### Training a linear model"
   ]
  },
  {
   "cell_type": "code",
   "execution_count": 17,
   "metadata": {},
   "outputs": [
    {
     "name": "stdout",
     "output_type": "stream",
     "text": [
      "(1000, 3) (1000, 1)\n",
      "[[0.30736706 0.11011295 0.55950296]]\n"
     ]
    }
   ],
   "source": [
    "# generate model data\n",
    "N = 1000\n",
    "D = 3\n",
    "x = np.random.random((N, D))\n",
    "w = np.random.random((D, 1))\n",
    "y = x @ w + np.random.randn(N, 1) * 0.20\n",
    "\n",
    "print(x.shape, y.shape)\n",
    "print(w.T)"
   ]
  },
  {
   "cell_type": "code",
   "execution_count": 18,
   "metadata": {},
   "outputs": [],
   "source": [
    "weights = tf.Variable(np.ones((D, 1)),name = \"w\", trainable=True,dtype=tf.float32)\n",
    "\n",
    "def loss_function():\n",
    "    pred = x @ weights\n",
    "    loss = tf.reduce_mean((y - pred) ** 2)\n",
    "    return loss"
   ]
  },
  {
   "cell_type": "code",
   "execution_count": 19,
   "metadata": {},
   "outputs": [],
   "source": [
    "optimizer = tf.keras.optimizers.SGD(learning_rate=0.1)"
   ]
  },
  {
   "cell_type": "code",
   "execution_count": 20,
   "metadata": {},
   "outputs": [
    {
     "name": "stdout",
     "output_type": "stream",
     "text": [
      "0.85446465\n",
      "0.044633225\n",
      "0.04343107\n",
      "0.04319504\n",
      "0.043148473\n",
      "0.04313925\n"
     ]
    }
   ],
   "source": [
    "for i in range(300):\n",
    "    step = optimizer.minimize(loss_function, var_list=[weights])\n",
    "    if i % 50 == 0:\n",
    "        print(loss_function().numpy())"
   ]
  },
  {
   "cell_type": "code",
   "execution_count": 21,
   "metadata": {},
   "outputs": [
    {
     "data": {
      "text/plain": [
       "<tf.Variable 'w:0' shape=(3, 1) dtype=float32, numpy=\n",
       "array([[0.3166873 ],\n",
       "       [0.09941876],\n",
       "       [0.5571117 ]], dtype=float32)>"
      ]
     },
     "execution_count": 21,
     "metadata": {},
     "output_type": "execute_result"
    }
   ],
   "source": [
    "# found weights\n",
    "weights"
   ]
  },
  {
   "cell_type": "code",
   "execution_count": 22,
   "metadata": {},
   "outputs": [
    {
     "data": {
      "text/plain": [
       "array([[0.30736706],\n",
       "       [0.11011295],\n",
       "       [0.55950296]])"
      ]
     },
     "execution_count": 22,
     "metadata": {},
     "output_type": "execute_result"
    }
   ],
   "source": [
    "# true weights\n",
    "w"
   ]
  },
  {
   "cell_type": "markdown",
   "metadata": {},
   "source": [
    "### Another type of execution"
   ]
  },
  {
   "cell_type": "code",
   "execution_count": 23,
   "metadata": {},
   "outputs": [
    {
     "data": {
      "text/plain": [
       "(1000, 3)"
      ]
     },
     "execution_count": 23,
     "metadata": {},
     "output_type": "execute_result"
    }
   ],
   "source": [
    "N,D"
   ]
  },
  {
   "cell_type": "code",
   "execution_count": 24,
   "metadata": {},
   "outputs": [],
   "source": [
    "import tensorflow as tf\n",
    "import numpy as np\n",
    "\n",
    "#x = np.array([\n",
    "#    [100, 105.4, 108.3, 111.1, 113, 114.7],\n",
    "#    [11, 11.8, 12.3, 12.8, 13.1, 13.6],\n",
    "#    [55, 56.3, 57, 58, 59.5, 60.4]\n",
    "#])\n",
    "\n",
    "#y = np.array([4000, 4200.34, 4700, 5300, 5800, 6400])\n",
    "\n",
    "x = np.random.random((N, D))\n",
    "w = np.random.random((D, 1))\n",
    "b = np.random.randn(1, 1) * 0.20\n",
    "\n",
    "y = x @ w + b"
   ]
  },
  {
   "cell_type": "code",
   "execution_count": 25,
   "metadata": {},
   "outputs": [],
   "source": [
    "class Model(object):\n",
    "    def __init__(self, x, y):\n",
    "        \n",
    "        self.W = tf.Variable(tf.random.normal((D, 1)))\n",
    "        self.b = tf.Variable(tf.random.normal((1, 1)))\n",
    "\n",
    "    def __call__(self, x):\n",
    "        return x @ self.W + self.b"
   ]
  },
  {
   "cell_type": "code",
   "execution_count": 26,
   "metadata": {},
   "outputs": [],
   "source": [
    "def loss(predicted_y, desired_y):\n",
    "    return tf.reduce_sum(tf.square(predicted_y - desired_y))"
   ]
  },
  {
   "cell_type": "code",
   "execution_count": 27,
   "metadata": {},
   "outputs": [],
   "source": [
    "optimizer = tf.optimizers.Adam(0.1)\n",
    "\n",
    "def train(model, inputs, outputs):\n",
    "    with tf.GradientTape() as t:\n",
    "        current_loss = loss(model(inputs), outputs)\n",
    "    grads = t.gradient(current_loss, [model.W, model.b])\n",
    "    optimizer.apply_gradients(zip(grads,[model.W, model.b]))\n",
    "    print(current_loss.numpy())"
   ]
  },
  {
   "cell_type": "code",
   "execution_count": 28,
   "metadata": {},
   "outputs": [
    {
     "name": "stdout",
     "output_type": "stream",
     "text": [
      "3589.9639\n",
      "2718.1519\n",
      "1981.5405\n",
      "1380.9463\n",
      "914.73737\n",
      "577.9038\n",
      "361.10626\n",
      "249.89703\n",
      "224.56374\n",
      "261.09662\n",
      "333.49518\n",
      "417.01352\n",
      "491.3374\n",
      "542.65234\n",
      "564.1449\n",
      "555.17993\n",
      "519.7427\n",
      "464.69894\n",
      "398.20996\n",
      "328.44724\n",
      "262.63\n",
      "206.36424\n",
      "163.2549\n",
      "134.77457\n",
      "120.37453\n",
      "117.8186\n",
      "123.6959\n",
      "134.0427\n",
      "144.9779\n",
      "153.2528\n",
      "156.63461\n",
      "154.08\n",
      "145.70038\n",
      "132.55618\n",
      "116.33998\n",
      "99.01486\n",
      "82.46812\n",
      "68.22835\n",
      "57.27758\n",
      "49.97361\n",
      "46.08072\n",
      "44.891525\n",
      "45.410194\n",
      "46.559525\n",
      "47.37393\n",
      "47.14648\n",
      "45.510025\n",
      "42.44686\n",
      "38.235268\n",
      "33.351414\n",
      "28.350632\n",
      "23.75213\n",
      "19.947523\n",
      "17.146275\n",
      "15.362936\n",
      "14.442886\n",
      "14.116438\n",
      "14.067074\n",
      "13.99882\n",
      "13.689567\n",
      "13.021869\n",
      "11.988346\n",
      "10.674231\n",
      "9.223955\n",
      "7.8009276\n",
      "6.549668\n",
      "5.5677624\n",
      "4.891989\n",
      "4.499402\n",
      "4.3209543\n",
      "4.262887\n",
      "4.230162\n",
      "4.1465487\n",
      "3.9675183\n",
      "3.6841807\n",
      "3.318757\n",
      "2.9139042\n",
      "2.5191905\n",
      "2.1782117\n",
      "1.9191679\n",
      "1.7505054\n",
      "1.6618452\n",
      "1.6291587\n",
      "1.6223223\n",
      "1.6129236\n",
      "1.580427\n",
      "1.5154893\n",
      "1.4200935\n",
      "1.3049538\n",
      "1.1852534\n",
      "1.0760139\n",
      "0.9882766\n",
      "0.9269113\n",
      "0.89032686\n",
      "0.8718538\n",
      "0.862182\n",
      "0.85207695\n",
      "0.83463776\n",
      "0.8065926\n",
      "0.76846504\n"
     ]
    }
   ],
   "source": [
    "model = Model(x, y)\n",
    "\n",
    "for i in range(100):\n",
    "    train(model,x,y)"
   ]
  },
  {
   "cell_type": "code",
   "execution_count": 29,
   "metadata": {},
   "outputs": [
    {
     "data": {
      "text/plain": [
       "array([[0.42773825],\n",
       "       [0.3165277 ],\n",
       "       [0.2242432 ]], dtype=float32)"
      ]
     },
     "execution_count": 29,
     "metadata": {},
     "output_type": "execute_result"
    }
   ],
   "source": [
    "model.W.numpy()"
   ]
  },
  {
   "cell_type": "code",
   "execution_count": 30,
   "metadata": {},
   "outputs": [
    {
     "data": {
      "text/plain": [
       "array([[-0.06439339]], dtype=float32)"
      ]
     },
     "execution_count": 30,
     "metadata": {},
     "output_type": "execute_result"
    }
   ],
   "source": [
    "model.b.numpy()"
   ]
  },
  {
   "cell_type": "code",
   "execution_count": 31,
   "metadata": {},
   "outputs": [
    {
     "data": {
      "text/plain": [
       "array([[0.47887999],\n",
       "       [0.36044085],\n",
       "       [0.27508401]])"
      ]
     },
     "execution_count": 31,
     "metadata": {},
     "output_type": "execute_result"
    }
   ],
   "source": [
    "w"
   ]
  },
  {
   "cell_type": "code",
   "execution_count": 32,
   "metadata": {},
   "outputs": [
    {
     "data": {
      "text/plain": [
       "array([[-0.14993601]])"
      ]
     },
     "execution_count": 32,
     "metadata": {},
     "output_type": "execute_result"
    }
   ],
   "source": [
    "b"
   ]
  }
 ],
 "metadata": {
  "kernelspec": {
   "display_name": "Python 3",
   "language": "python",
   "name": "python3"
  },
  "language_info": {
   "codemirror_mode": {
    "name": "ipython",
    "version": 3
   },
   "file_extension": ".py",
   "mimetype": "text/x-python",
   "name": "python",
   "nbconvert_exporter": "python",
   "pygments_lexer": "ipython3",
   "version": "3.7.3"
  }
 },
 "nbformat": 4,
 "nbformat_minor": 2
}
