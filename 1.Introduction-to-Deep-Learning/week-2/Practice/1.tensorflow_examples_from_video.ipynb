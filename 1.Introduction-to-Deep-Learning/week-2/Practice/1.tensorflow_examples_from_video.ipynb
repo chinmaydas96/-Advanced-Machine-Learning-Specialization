{
 "cells": [
  {
   "cell_type": "markdown",
   "metadata": {},
   "source": [
    "# Video \"What is TensorFlow\""
   ]
  },
  {
   "cell_type": "code",
   "execution_count": 1,
   "metadata": {},
   "outputs": [
    {
     "name": "stdout",
     "output_type": "stream",
     "text": [
      "2.0.0-dev20190914\n"
     ]
    }
   ],
   "source": [
    "import tensorflow as tf\n",
    "import numpy as np\n",
    "print(tf.__version__)"
   ]
  },
  {
   "cell_type": "code",
   "execution_count": 2,
   "metadata": {},
   "outputs": [],
   "source": [
    "a = tf.constant(tf.ones((2,2)))\n",
    "b = tf.Variable(tf.zeros((2,2)))"
   ]
  },
  {
   "cell_type": "code",
   "execution_count": 3,
   "metadata": {},
   "outputs": [
    {
     "data": {
      "text/plain": [
       "<tf.Tensor: id=2, shape=(2, 2), dtype=float32, numpy=\n",
       "array([[1., 1.],\n",
       "       [1., 1.]], dtype=float32)>"
      ]
     },
     "execution_count": 3,
     "metadata": {},
     "output_type": "execute_result"
    }
   ],
   "source": [
    "a"
   ]
  },
  {
   "cell_type": "code",
   "execution_count": 4,
   "metadata": {},
   "outputs": [
    {
     "data": {
      "text/plain": [
       "<tf.Variable 'Variable:0' shape=(2, 2) dtype=float32, numpy=\n",
       "array([[0., 0.],\n",
       "       [0., 0.]], dtype=float32)>"
      ]
     },
     "execution_count": 4,
     "metadata": {},
     "output_type": "execute_result"
    }
   ],
   "source": [
    "b"
   ]
  },
  {
   "cell_type": "code",
   "execution_count": 5,
   "metadata": {},
   "outputs": [],
   "source": [
    "b = tf.ones((2, 2))"
   ]
  },
  {
   "cell_type": "code",
   "execution_count": 6,
   "metadata": {},
   "outputs": [
    {
     "data": {
      "text/plain": [
       "<tf.Tensor: id=18, shape=(2, 2), dtype=float32, numpy=\n",
       "array([[2., 2.],\n",
       "       [2., 2.]], dtype=float32)>"
      ]
     },
     "execution_count": 6,
     "metadata": {},
     "output_type": "execute_result"
    }
   ],
   "source": [
    "c = a @ b\n",
    "c"
   ]
  },
  {
   "cell_type": "markdown",
   "metadata": {},
   "source": [
    "## First model in TensorFlow 2.0"
   ]
  },
  {
   "cell_type": "code",
   "execution_count": 7,
   "metadata": {},
   "outputs": [
    {
     "data": {
      "text/plain": [
       "<tf.Variable 'x:0' shape=() dtype=float32, numpy=3.0>"
      ]
     },
     "execution_count": 7,
     "metadata": {},
     "output_type": "execute_result"
    }
   ],
   "source": [
    "x = tf.Variable(3,name = \"x\", trainable=True,dtype=tf.float32)\n",
    "x"
   ]
  },
  {
   "cell_type": "code",
   "execution_count": 8,
   "metadata": {},
   "outputs": [
    {
     "data": {
      "text/plain": [
       "3.0"
      ]
     },
     "execution_count": 8,
     "metadata": {},
     "output_type": "execute_result"
    }
   ],
   "source": [
    "x.numpy()"
   ]
  },
  {
   "cell_type": "code",
   "execution_count": 9,
   "metadata": {},
   "outputs": [
    {
     "name": "stdout",
     "output_type": "stream",
     "text": [
      "4.2 0.6400003\n",
      "4.68 0.10240011\n",
      "4.8719997 0.016384067\n",
      "4.9488 0.0026214311\n",
      "4.97952 0.00041943678\n",
      "4.991808 6.710989e-05\n",
      "4.996723 1.0737582e-05\n",
      "4.998689 1.7182631e-06\n",
      "4.9994755 2.7512215e-07\n",
      "4.99979 4.4019544e-08\n"
     ]
    }
   ],
   "source": [
    "def y_fun():\n",
    "    y = (x - 5) ** 2\n",
    "    return y\n",
    "\n",
    "optimizer = tf.keras.optimizers.SGD(learning_rate=0.3)\n",
    "for i in range(10):\n",
    "    step = optimizer.minimize(y_fun, var_list=[x])\n",
    "    print(x.numpy(),y_fun().numpy())"
   ]
  },
  {
   "cell_type": "markdown",
   "metadata": {},
   "source": [
    "### Simple optimization (with tf.Print)"
   ]
  },
  {
   "cell_type": "code",
   "execution_count": 10,
   "metadata": {},
   "outputs": [
    {
     "name": "stdout",
     "output_type": "stream",
     "text": [
      "x :  3 , y:  4\n",
      "x :  4.2 , y:  0.640000284\n",
      "x :  4.68 , y:  0.102400109\n",
      "x :  4.87199974 , y:  0.016384067\n",
      "x :  4.9488 , y:  0.00262143114\n",
      "x :  4.97952 , y:  0.000419436779\n",
      "x :  4.99180794 , y:  6.71098896e-05\n",
      "x :  4.99672318 , y:  1.07375818e-05\n",
      "x :  4.99868917 , y:  1.71826309e-06\n",
      "x :  4.99947548 , y:  2.75122147e-07\n"
     ]
    }
   ],
   "source": [
    "x = tf.Variable(3,name = \"x\", trainable=True,dtype=tf.float32)\n",
    "\n",
    "def y_fun():\n",
    "    y = (x - 5) ** 2\n",
    "    #tf.print(y, x,\"x, f:\")\n",
    "    tf.print(\"x : \", x,\", y: \" , y)\n",
    "    return y\n",
    "\n",
    "optimizer = tf.keras.optimizers.SGD(learning_rate=0.3)\n",
    "for i in range(10):\n",
    "    step = optimizer.minimize(y_fun, var_list=[x])"
   ]
  },
  {
   "cell_type": "markdown",
   "metadata": {},
   "source": [
    "### Simple optimization (with TensorBoard logging)"
   ]
  },
  {
   "cell_type": "code",
   "execution_count": 11,
   "metadata": {},
   "outputs": [],
   "source": [
    "# ! pip install tf-nightly-2.0-preview tf_estimator_nightly"
   ]
  },
  {
   "cell_type": "code",
   "execution_count": 12,
   "metadata": {},
   "outputs": [],
   "source": [
    "%load_ext tensorboard"
   ]
  },
  {
   "cell_type": "code",
   "execution_count": 13,
   "metadata": {},
   "outputs": [],
   "source": [
    "# Clear any logs from previous runs\n",
    "!rm -rf ./logs/ "
   ]
  },
  {
   "cell_type": "code",
   "execution_count": 14,
   "metadata": {},
   "outputs": [],
   "source": [
    "directory = 'logs/simple1'\n",
    "summary_writer = tf.summary.create_file_writer(directory)"
   ]
  },
  {
   "cell_type": "code",
   "execution_count": 15,
   "metadata": {},
   "outputs": [],
   "source": [
    "x = tf.Variable(3,name = \"x\", trainable=True,dtype=tf.float32)\n",
    "\n",
    "def y_fun():\n",
    "    y = (x - 5) ** 2\n",
    "    #tf.print(y, x,\"x, f:\")\n",
    "    #tf.print(\"x : \", x,\" y: \" , y)\n",
    "    return y\n",
    "\n",
    "optimizer = tf.keras.optimizers.SGD(learning_rate=0.3)\n",
    "for i in range(10):\n",
    "    step = optimizer.minimize(y_fun, var_list=[x])\n",
    "    \n",
    "    with summary_writer.as_default():\n",
    "        tf.summary.scalar('x', x, step=i)\n",
    "        tf.summary.scalar('y', y_fun(), step=i)"
   ]
  },
  {
   "cell_type": "code",
   "execution_count": 16,
   "metadata": {},
   "outputs": [
    {
     "data": {
      "text/plain": [
       "Reusing TensorBoard on port 6006 (pid 24983), started 0:02:56 ago. (Use '!kill 24983' to kill it.)"
      ]
     },
     "metadata": {},
     "output_type": "display_data"
    },
    {
     "data": {
      "text/html": [
       "\n",
       "      <iframe id=\"tensorboard-frame-7097b3d902d870ba\" width=\"100%\" height=\"800\" frameborder=\"0\">\n",
       "      </iframe>\n",
       "      <script>\n",
       "        (function() {\n",
       "          const frame = document.getElementById(\"tensorboard-frame-7097b3d902d870ba\");\n",
       "          const url = new URL(\"/\", window.location);\n",
       "          url.port = 6006;\n",
       "          frame.src = url;\n",
       "        })();\n",
       "      </script>\n",
       "  "
      ],
      "text/plain": [
       "<IPython.core.display.HTML object>"
      ]
     },
     "metadata": {},
     "output_type": "display_data"
    }
   ],
   "source": [
    "%tensorboard --logdir logs/simple1"
   ]
  },
  {
   "cell_type": "code",
   "execution_count": null,
   "metadata": {},
   "outputs": [],
   "source": []
  },
  {
   "cell_type": "code",
   "execution_count": null,
   "metadata": {},
   "outputs": [],
   "source": []
  },
  {
   "cell_type": "code",
   "execution_count": null,
   "metadata": {},
   "outputs": [],
   "source": []
  },
  {
   "cell_type": "code",
   "execution_count": null,
   "metadata": {},
   "outputs": [],
   "source": []
  }
 ],
 "metadata": {
  "kernelspec": {
   "display_name": "Python 3",
   "language": "python",
   "name": "python3"
  },
  "language_info": {
   "codemirror_mode": {
    "name": "ipython",
    "version": 3
   },
   "file_extension": ".py",
   "mimetype": "text/x-python",
   "name": "python",
   "nbconvert_exporter": "python",
   "pygments_lexer": "ipython3",
   "version": "3.7.3"
  }
 },
 "nbformat": 4,
 "nbformat_minor": 2
}
